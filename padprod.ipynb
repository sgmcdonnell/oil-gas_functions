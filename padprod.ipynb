{
 "cells": [
  {
   "cell_type": "code",
   "execution_count": null,
   "metadata": {},
   "outputs": [],
   "source": [
    "import matplotlib.pyplot as plt\n",
    "\n",
    "def padprod_oil_type(df, api_list, x, y, pad_name):\n",
    "\n",
    "    fig,a =  plt.subplots(1,1, figsize = (16,9.5), sharex='col')\n",
    "\n",
    "    \n",
    "    #type curve parameters\n",
    "    for api in np.unique(df['API']):\n",
    "        for apis in type_curve:\n",
    "            if (api == apis):\n",
    "                tdf = df[df['API'== api].copy()\n",
    "                a.plot(tdf[x], tdf[y], label = , color = \"black\", linewidth=3, alpha = 0.95)\n",
    "            \n",
    "    #well parameters   \n",
    "    for api in np.unique(df_prod['API']):\n",
    "        for apis in api_list:\n",
    "            if (api == apis):\n",
    "                tdf = df_prod[df_prod['API']== api].copy()\n",
    "                #tdf = tdf.sort_values(by = 'PRODDATE') #may need to sort dataframe by date column\n",
    "                a.plot(tdf[x], tdf[y],label = api, linewidth = 3, alpha = 0.95)\n",
    "\n",
    "    \n",
    "    a.set_title(pad_name, fontweight ='bold',fontsize =24)\n",
    "    a.set_ylabel(x, fontweight='bold', fontsize = 18)\n",
    "    a.set_xlabel(y, fontweight='bold', fontsize = 18)\n",
    "    a.tick_params(axis='y', labelsize=18)\n",
    "    a.tick_params(axis='x', labelsize=18)\n",
    "    a.yaxis.grid(zorder=0, color ='grey')\n",
    "\n",
    "  \n",
    "    ax = plt.gca()\n",
    "   \n",
    "    a.minorticks_on()\n",
    "    a.grid(which='minor', linestyle=':', linewidth='0.3', color='black')\n",
    "    a.xaxis.grid(False, which='minor')\n",
    "    legend = legend =a.legend(prop={\"size\":14, \"weight\":'bold'},loc = 'upper right', ncol = 2)\n",
    " \n",
    "    plt.locator_params(axis='x', nbins=12)"
   ]
  }
 ],
 "metadata": {
  "language_info": {
   "codemirror_mode": {
    "name": "ipython",
    "version": 3
   },
   "file_extension": ".py",
   "mimetype": "text/x-python",
   "name": "python",
   "nbconvert_exporter": "python",
   "pygments_lexer": "ipython3",
   "version": 3
  },
  "orig_nbformat": 2
 },
 "nbformat": 4,
 "nbformat_minor": 2
}
