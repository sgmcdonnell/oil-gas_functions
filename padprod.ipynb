{
 "cells": [
  {
   "cell_type": "code",
   "execution_count": null,
   "metadata": {},
   "outputs": [],
   "source": [
    "import matplotlib.pyplot as plt\n",
    "\n",
    "def padprod_oil_type(df, api_list, x, y, pad_name):\n",
    "\n",
    "    fig,a =  plt.subplots(1,1, figsize = (16,9.5), sharex='col')\n",
    "\n",
    "    \n",
    "    #type curve parameters \n",
    "    for well in np.unique(df[name_header]): \n",
    "        for tc in type_curve_list: \n",
    "            if (tc == well): \n",
    "                tdf = df[df[name_header] == tc].copy() \n",
    "                tdf = tdf.sort_values(by = x)    \n",
    "                tdf['DAYS_PRODUCING'] = (tdf[x] - min(tdf[x]))/(3600000000000)/24 \n",
    "                a.plot(tdf['DAYS_PRODUCING'], tdf[y], label = tc, color = "black", linewidth = 3, alpha = 0.95) \n",
    "            \n",
    "    #well parameters   \n",
    "    for api in np.unique(df[api_header]):\n",
    "        for apis in api_list:\n",
    "            if (api == apis):\n",
    "                tdf = df[df[api_header]== api].copy()\n",
    "                tdf = tdf.sort_values(by = x)   \n",
    "                tdf['DAYS_PRODUCING'] = (tdf[x] - min(tdf[x]))/(3600000000000)/24\n",
    "                a.plot(tdf['DAYS_PRODUCING'], tdf[y], label = api, linewidth = 3, alpha = 0.95)\n",
    "\n",
    "    \n",
    "    a.set_title(pad_name, fontweight ='bold',fontsize =24)\n",
    "    a.set_xlabel('Days Producing', fontweight='bold', fontsize = 18)\n",
    "    a.set_ylabel(y, fontweight='bold', fontsize = 18)\n",
    "    a.tick_params(axis='y', labelsize=18)\n",
    "    a.tick_params(axis='x', labelsize=18)\n",
    "    a.yaxis.grid(zorder=0, color ='grey')\n",
    "\n",
    "  \n",
    "    ax = plt.gca()\n",
    "   \n",
    "    a.minorticks_on()\n",
    "    a.grid(which='minor', linestyle=':', linewidth='0.3', color='black')\n",
    "    a.xaxis.grid(False, which='minor')\n",
    "    legend = legend =a.legend(prop={\"size\":14, \"weight\":'bold'},loc = 'upper right', ncol = 2)\n",
    " \n",
    "    plt.locator_params(axis='x', nbins=12)"
   ]
  }
 ],
 "metadata": {
  "language_info": {
   "codemirror_mode": {
    "name": "ipython",
    "version": 3
   },
   "file_extension": ".py",
   "mimetype": "text/x-python",
   "name": "python",
   "nbconvert_exporter": "python",
   "pygments_lexer": "ipython3",
   "version": 3
  },
  "orig_nbformat": 2
 },
 "nbformat": 4,
 "nbformat_minor": 2
}
